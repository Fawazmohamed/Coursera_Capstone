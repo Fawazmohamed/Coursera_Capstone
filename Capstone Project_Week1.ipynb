{
 "cells": [
  {
   "cell_type": "markdown",
   "metadata": {},
   "source": [
    "# Finding a suitable location to start a restaurant in New York City."
   ]
  },
  {
   "cell_type": "markdown",
   "metadata": {},
   "source": [
    "### Problem Description:"
   ]
  },
  {
   "cell_type": "markdown",
   "metadata": {},
   "source": [
    "##### The exercise is to help some investors find a suitable location in New York to start a fine dining Restaurant. The location must fulfill the below 03 criteria:\n",
    "1. The neighborhood and location should be in one of the 03 most highly populated boroughs in the City. The restaurant will be primarily focused on tourists or floating resident population.\n",
    "2. The investors plan to make this restaurant the most popular dining venue in the locality. So, it must not have another established restaurant which is already a top popular venue. \n",
    "3. The neighborhood of the location must have at least one popular tourist spot or a destination which attracts a lot of traffic. "
   ]
  },
  {
   "cell_type": "markdown",
   "metadata": {},
   "source": [
    "### Target Audience:"
   ]
  },
  {
   "cell_type": "markdown",
   "metadata": {},
   "source": [
    "When it comes to the main success factors of retail and restaurants, we have the age old saying 'Location, Location, Location'. \n",
    "In fact, having the right location is so important, as it has the power to make or break your business. \n",
    "Restaurant owners and investors always finds it hard to decide a proper location before making a significant investment. While traditionally, investors spend money on sending location scouts to do market research about the location, it is time-consuming and expensive . With available data from Four Square and implementing ML algorithms, we can find the most suitable locations, in which they can further do studies on the ground. This will decrease the money and efforts spent in learning many other neighborhoods which are not suitable in the first place.\n",
    "The results will be used by a set of investors who is looking to start a restaurant in Toronto. The final results will give them an idea to decide on the ideal location to start the restaurant. "
   ]
  },
  {
   "cell_type": "markdown",
   "metadata": {},
   "source": [
    "### Expected Results:"
   ]
  },
  {
   "cell_type": "markdown",
   "metadata": {},
   "source": [
    "At the end of this project, we will identify 03 ideal locations to start a restaurant based on sever"
   ]
  }
 ],
 "metadata": {
  "kernelspec": {
   "display_name": "Python 3",
   "language": "python",
   "name": "python3"
  },
  "language_info": {
   "codemirror_mode": {
    "name": "ipython",
    "version": 3
   },
   "file_extension": ".py",
   "mimetype": "text/x-python",
   "name": "python",
   "nbconvert_exporter": "python",
   "pygments_lexer": "ipython3",
   "version": "3.6.8"
  }
 },
 "nbformat": 4,
 "nbformat_minor": 2
}
